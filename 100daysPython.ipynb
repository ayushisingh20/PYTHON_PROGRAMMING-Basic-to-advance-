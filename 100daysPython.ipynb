{
  "cells": [
    {
      "cell_type": "code",
      "execution_count": null,
      "metadata": {
        "colab": {
          "base_uri": "https://localhost:8080/"
        },
        "id": "6DkzJ_Lb05Lz",
        "outputId": "4367467d-5bd3-4b6e-9083-f28195a043a6"
      },
      "outputs": [
        {
          "name": "stdout",
          "output_type": "stream",
          "text": [
            "2 4 hello world\n",
            "hey~2~4\n",
            "hey~2~4takeittonextlevelhey again\n",
            "hey~2~4takeittonextlevel\n",
            "hey again\n"
          ]
        }
      ],
      "source": [
        "#multiple values in print statement:\n",
        "print(2,4,\"hello world\")\n",
        "\n",
        "#seperator\n",
        "print(\"hey\",2,4,sep=\"~\")\n",
        "\n",
        "print(\"hey\",2,4,sep=\"~\",end=\"takeittonextlevel\")\n",
        "print(\"hey again\")\n",
        "\n",
        "\n",
        "print(\"hey\",2,4,sep=\"~\",end=\"takeittonextlevel\\n\")\n",
        "print(\"hey again\")"
      ]
    },
    {
      "cell_type": "code",
      "execution_count": null,
      "metadata": {
        "colab": {
          "base_uri": "https://localhost:8080/"
        },
        "id": "_MGQZuLhFv_W",
        "outputId": "ccb24ce9-80a5-4856-9248-71973431befc"
      },
      "outputs": [
        {
          "name": "stdout",
          "output_type": "stream",
          "text": [
            "helloo \n",
            " hi\n",
            "hi ayushi. you are a \"good person\"\n"
          ]
        }
      ],
      "source": [
        "#ESCAPE SEQUENCES\n",
        "\n",
        "print(\"helloo \\n hi\") #space doesnt matter\n",
        "\n",
        "#\\n : is escape sequence character ==> new line character\n",
        "\n",
        "print(\"hi ayushi. you are a \\\"good person\\\" \")\n",
        "\n",
        "#\\\": to print double quotes"
      ]
    },
    {
      "cell_type": "code",
      "execution_count": null,
      "metadata": {
        "colab": {
          "base_uri": "https://localhost:8080/"
        },
        "id": "_u0w1Z5JHLpD",
        "outputId": "a8b87fe0-cbf1-4c77-d5db-2d33fc3febf4"
      },
      "outputs": [
        {
          "name": "stdout",
          "output_type": "stream",
          "text": [
            "hi\n"
          ]
        }
      ],
      "source": [
        "#multiline comments\n",
        "\n",
        "''' when you enclose\n",
        "in triple single\n",
        "quotes\n",
        "'''\n",
        "print (\"hi\")"
      ]
    },
    {
      "cell_type": "code",
      "execution_count": null,
      "metadata": {
        "colab": {
          "base_uri": "https://localhost:8080/"
        },
        "id": "7ak7-ceeLjEn",
        "outputId": "688862d3-ccea-4d9d-8c5a-2ee17b0e037b"
      },
      "outputs": [
        {
          "name": "stdout",
          "output_type": "stream",
          "text": [
            "hi\n"
          ]
        }
      ],
      "source": [
        "# Multiline comment\n",
        "\"\"\" when you enclose\n",
        "in triple double\n",
        "quotes\n",
        "\"\"\"\n",
        "print (\"hi\")"
      ]
    },
    {
      "cell_type": "code",
      "execution_count": null,
      "metadata": {
        "colab": {
          "base_uri": "https://localhost:8080/"
        },
        "id": "9Nc-6B2PLjbR",
        "outputId": "3b322d0f-1b1d-4285-925a-1102130cb017"
      },
      "outputs": [
        {
          "name": "stdout",
          "output_type": "stream",
          "text": [
            "ayushi2\n",
            "<class 'str'>\n"
          ]
        }
      ],
      "source": [
        "#VARIABLES AND DATA TYPES\n",
        "b=\"ayushi2\" #double quotes for string data type\n",
        "\n",
        "\n",
        "\n",
        "#why we need data types\n",
        "'''a=4\n",
        "   b=\"sok\"\n",
        "   add= a+b'''\n",
        "\n",
        "'''but this addition isnt possible. Thats we need data types so that we perform various opertaions without causing an error'''\n",
        "print (b)\n",
        "\n",
        "\n",
        "#how to check data type ?\n",
        "print(type(b))\n",
        "\n",
        "\n"
      ]
    },
    {
      "cell_type": "code",
      "execution_count": null,
      "metadata": {
        "colab": {
          "base_uri": "https://localhost:8080/"
        },
        "id": "g4VK-pieiz-c",
        "outputId": "da75a42b-b624-4829-c0b0-90c8529735ca"
      },
      "outputs": [
        {
          "name": "stdout",
          "output_type": "stream",
          "text": [
            "3\n",
            "4\n",
            "2187\n"
          ]
        }
      ],
      "source": [
        "#OPERATORS\n",
        "\n",
        "#(arithmetic)\n",
        "\n",
        "modulus = 3%9 #3 DIVIDED 9 AND THEN IT GIVES THE REMAINDER\n",
        "print(modulus)\n",
        "\n",
        "\n",
        "FloorDivision = 9//2\n",
        "print(FloorDivision) #gives roundoff vale after divison of quotient\n",
        "\n",
        "\n",
        "Exponential = 3**7 # 3 to the power 7\n",
        "print(Exponential)"
      ]
    },
    {
      "cell_type": "code",
      "execution_count": null,
      "metadata": {
        "colab": {
          "base_uri": "https://localhost:8080/"
        },
        "id": "7HGVaji0t1Ct",
        "outputId": "56599f28-47d2-4cbf-97ed-19f091e40bdf"
      },
      "outputs": [
        {
          "name": "stdout",
          "output_type": "stream",
          "text": [
            "37\n",
            "10\n"
          ]
        }
      ],
      "source": [
        "#TYPE CASTING\n",
        "A =\"3\"\n",
        "B =\"7\"\n",
        "print(A+B)\n",
        "print(int(A)+int(B)) #conversion of string into integer"
      ]
    },
    {
      "cell_type": "code",
      "execution_count": null,
      "metadata": {
        "id": "BQLKBsCbvbj-"
      },
      "outputs": [],
      "source": [
        "#INPUT FUNCTION -  input is taken as a string\n",
        "x= input(\"enter value of first number :\")\n",
        "y= input(\"enter value of second number :\")\n",
        "print (x+y)\n",
        "print(int(x)+int(y))\n"
      ]
    },
    {
      "cell_type": "code",
      "execution_count": null,
      "metadata": {
        "colab": {
          "base_uri": "https://localhost:8080/"
        },
        "id": "HYeQahbmPAYW",
        "outputId": "67d28886-1fc1-4ea0-a492-8ebcbb609542"
      },
      "outputs": [
        {
          "name": "stdout",
          "output_type": "stream",
          "text": [
            "he said \"he loves to eat apples\"\n",
            "hi i am ayushi,\n",
            "can i ask for a min,\n",
            "thankyou\n",
            "h\n",
            "lets do looping in strings \n",
            "\n",
            "h\n",
            "i\n",
            " \n",
            "i\n",
            " \n",
            "a\n",
            "m\n",
            " \n",
            "a\n",
            "y\n",
            "u\n",
            "s\n",
            "h\n",
            "i\n",
            ",\n",
            "\n",
            "\n",
            "c\n",
            "a\n",
            "n\n",
            " \n",
            "i\n",
            " \n",
            "a\n",
            "s\n",
            "k\n",
            " \n",
            "f\n",
            "o\n",
            "r\n",
            " \n",
            "a\n",
            " \n",
            "m\n",
            "i\n",
            "n\n",
            ",\n",
            "\n",
            "\n",
            "t\n",
            "h\n",
            "a\n",
            "n\n",
            "k\n",
            "y\n",
            "o\n",
            "u\n",
            "lets do looping in strings again\n",
            "\n",
            "h\n",
            "i\n",
            " \n",
            "i\n",
            " \n",
            "a\n",
            "m\n",
            " \n",
            "a\n",
            "y\n",
            "u\n",
            "s\n",
            "h\n",
            "i\n",
            ",\n",
            "\n",
            "\n",
            "c\n",
            "a\n",
            "n\n",
            " \n",
            "i\n",
            " \n",
            "a\n",
            "s\n",
            "k\n",
            " \n",
            "f\n",
            "o\n",
            "r\n",
            " \n",
            "a\n",
            " \n",
            "m\n",
            "i\n",
            "n\n",
            ",\n",
            "\n",
            "\n",
            "t\n",
            "h\n",
            "a\n",
            "n\n",
            "k\n",
            "y\n",
            "o\n",
            "u\n",
            "lets do looping in strings again\n",
            "\n",
            "A\n",
            "y\n",
            "u\n",
            "s\n",
            "h\n",
            "i\n",
            " \n",
            "i\n",
            "s\n",
            " \n",
            "t\n",
            "h\n",
            "e\n",
            " \n",
            "b\n",
            "e\n",
            "s\n",
            "t\n"
          ]
        }
      ],
      "source": [
        "\n",
        "#STRINGS\n",
        "apple = 'he said \"he loves to eat apples\"' #to enclose double quotes add single quotes outside.you cant use double quotes outisde as well.\n",
        "print(apple)\n",
        "\n",
        "# multi line strings - use triple quotes\n",
        "st= '''hi i am ayushi,\n",
        "can i ask for a min,\n",
        "thankyou'''\n",
        "print(st)\n",
        "\n",
        "#indexing in string starts from 0\n",
        "print(apple[0])\n",
        "\n",
        "print(\"lets do looping in strings \\n\")\n",
        "\n",
        "#LOOPING THROUGH STRINGS- FOR LOOP\n",
        "for character in st:\n",
        "  print (character)\n",
        "\n",
        "print(\"lets do looping in strings again\\n\")\n",
        "\n",
        "for n in st:\n",
        "  print(n)\n",
        "\n",
        "print(\"lets do looping in strings again\\n\")\n",
        "\n",
        "st2=\"Ayushi is the best\"\n",
        "\n",
        "for u in st2:\n",
        "  print(u)"
      ]
    },
    {
      "cell_type": "code",
      "execution_count": null,
      "metadata": {
        "colab": {
          "base_uri": "https://localhost:8080/"
        },
        "id": "QWV50QrUUdYT",
        "outputId": "66afda9b-2780-4ba3-ed6c-2ed3612a2c11"
      },
      "outputs": [
        {
          "name": "stdout",
          "output_type": "stream",
          "text": [
            "harry\n",
            "harry\n",
            "harry,shubham\n",
            "13\n",
            "harry,sh\n",
            "\n",
            "rry,sh\n",
            "3\n",
            "h\n",
            "ar\n"
          ]
        }
      ],
      "source": [
        "#STRING SLICING\n",
        "names=\"harry,shubham\"\n",
        "print(names[0:5]) #OR\n",
        "print(names[:5]) #automatically takes starting index to be 1\n",
        "print(names[:]) # will print whole\n",
        "len1=len(names) # now counting will not start from 0\n",
        "print(len1) #len function used to find the length of a string\n",
        "\n",
        "#NEGATIVE SLICING\n",
        "print(names[0:-5]) # This is equlvalent to print(names[0:len(names)-5])\n",
        "print(names[-1:-5]) # This is equlvalent to print(names[len(names)-1:len(names)-5]) which is print([18:13]) which doest make sense so no output\n",
        "print(names[-11:-5])\n",
        "\n",
        "I=\"ayu\"\n",
        "print(len(I))\n",
        "\n",
        "nm=\"harry\"\n",
        "print(nm[0:-4])\n",
        "print(nm[-4:-2]) # -4 include the letter it ends up upon , -2 dont include the letter it ends up upon"
      ]
    },
    {
      "cell_type": "code",
      "execution_count": null,
      "metadata": {
        "id": "BpdNPFZO6cN_"
      },
      "outputs": [],
      "source": [
        "#STRING METHODS ~ strings are IMMUTABLE ~so craetes new string when changed\n",
        "v=\"!harry  harry!!\"\n",
        "k=\"ayushi\"\n",
        "j=\"ayushi is my name. She is an honest PERSON\"\n",
        "l=\"ayushi is my name \\n She is an honest PERSON\"\n",
        "y=\"True Power\"\n",
        "print(v.upper()) # all letters upper case\n",
        "\n",
        "print(v.lower()) # all letters lower case\n",
        "\n",
        "print(v.rstrip(\"!\")) # will remove all ! in the end and not in the\n",
        "\n",
        "print(v.replace(\"harry\",\"ayushi\")) #replaces all harrys\n",
        "\n",
        "print(v.split(\" \")) # COVERTS STRING TO LIST\n",
        "\n",
        "print(k.capitalize()) # will amke first letter capital and rest small\n",
        "print(v.capitalize()) # doesnt work if first object is a sign and not a letter\n",
        "\n",
        "print(k.center(30)) # adds len(k)-10 spaces in front of the string\n",
        "print(len(k))# Also note that after this function len(k)= 30\n",
        "\n",
        "print(v.count(\"harry\")) # returns the number of times a given value has occured in the string\n",
        "\n",
        "print(v.endswith(\"!\")) # checks if string ends with certain value. Output: true/false\n",
        "print(v.endswith(\"u\",1,5)) #checks inbetween string by providing start and end index\n",
        "print(v.startswith(\"!\")) #checks if string starts with certain value. Output: true/false\n",
        "print(j.find(\"is\")) #searches the string for the first occurance of the value and then returns the index number. if not present returns (-1)\n",
        "\n",
        "#print(j.index(\"are\")) ----> index method is just like find BUT if value not found raises exception\n",
        "\n",
        "print(k.isalnum()) # returns true if  contains only a-z, A-Z & 0-9\n",
        "print(k.isalpha()) # returns true if  contains only a-z, A-Z\n",
        "print(k.islower()) #if all lowercase then true\n",
        "print(l.isprintable()) # characters like \\n arent pritable thus false.printable means using print command what we see in results\n",
        "print(l.isspace()) #true if there are white spaces\n",
        "print(y.istitle()) #true if first letter of each word is capital\n",
        "print(y.isupper()) # true is every letter of each word is upper case\n",
        "print(y.islower()) # true is every letter of each word is lower case\n",
        "\n",
        "print(y.swapcase()) #does opposite of what the case o the letters is\n",
        "\n",
        "print(j.title()) #first letter of each word is capital\n"
      ]
    },
    {
      "cell_type": "code",
      "execution_count": null,
      "metadata": {
        "id": "_HI6sGHr085w"
      },
      "outputs": [],
      "source": [
        "3 # IF/ELSE/ELIF CONDITINAL STATEMENTS\n",
        "\n",
        " # why called conditinal? ----> Because it makes use of conditinal operators\n",
        " # Conditinal operators are : >,<,!=(not equal),==(equal)  ,<=,>=\n",
        "\n",
        "\n",
        "#if-else loop\n",
        "s = int(input(\"Enter your age : \"))\n",
        "print(\"age is : \",s)\n",
        "if s>18:   # What is : --->\n",
        "  print(\"YOU CAN DRIVE\")\n",
        "else:\n",
        "  print(\"YOU CAN NOT DRIVE\")\n",
        "\n",
        "\n",
        "''' NOTE (Indentaion notes)\n",
        "if s>18:\n",
        "  print(\"YOU CAN DRIVE\")\n",
        "print(\"yes\") ------> this isnt inside the if block\n",
        "             ------> this will always print irrespective of if /else'''\n",
        "\n",
        "\n",
        "#if-elif-else loop\n",
        "n=int(input(\"please enter your number: \"))\n",
        "if n>0 :\n",
        "  print(\"Nmuber is positive\")\n",
        "elif n==0 :                    #elif executed after if\n",
        "  print(\"Number is zero\")\n",
        "else:\n",
        "  print(\"Number is negative\")\n",
        "\n",
        "\n",
        "# Nested if-elif-else loop\n",
        "n=int(input(\"Please enter your number: \"))\n",
        "if n>0 :\n",
        "  if (n<=10):\n",
        "    print(\"number is equal to 10\")\n",
        "  elif (n>10 and n<=20):\n",
        "    print(\"number is between 11 and 20\")\n",
        "  else:\n",
        "    print(\"number is greater than 20\")\n",
        "elif n==0 :\n",
        "  print(\"Number is zero\")\n",
        "else:\n",
        "  print(\"Number is negative\")\n",
        "\n",
        "\n"
      ]
    },
    {
      "cell_type": "code",
      "execution_count": null,
      "metadata": {
        "id": "Z7ewpkLl4MU2"
      },
      "outputs": [],
      "source": [
        "#EXERCISE-2\n",
        "import time\n",
        "time_string = time.strftime(\" %H:%M:%S\")\n",
        "hour = int(time.strftime(\"%H\"))\n",
        "print(hour)\n",
        "print(time_string)\n",
        "if (hour >= 4 and hour <12) :\n",
        "  print(\"GOOD MORNING\")\n",
        "elif (hour >= 12 and hour <17) :\n",
        "  print(\"GOOD AFTERNOON\")\n",
        "else:\n",
        "  print(\"GOOD EVENING\")\n"
      ]
    },
    {
      "cell_type": "code",
      "execution_count": null,
      "metadata": {
        "id": "QaGBNPZ-_Kge"
      },
      "outputs": [],
      "source": [
        "#MATCH CASE STATEMENTS\n",
        "\n",
        "x =int(input(\"please enter your number: \"))\n",
        "match x:\n",
        "  case 0 :\n",
        "    print(\"Nmuber is zero\")\n",
        "  case 1:\n",
        "    print(\"Number is one\")\n",
        "  case default:\n",
        "    print(\"Number is neither 1 nor 0\")\n"
      ]
    },
    {
      "cell_type": "code",
      "execution_count": null,
      "metadata": {
        "id": "Lsdv5lb6LUUa"
      },
      "outputs": [],
      "source": [
        "#MATCH CASE WITH IF STATEMENTS\n",
        "n=int(input(\"please enter your number: \"))\n",
        "match n :\n",
        "  case _ if n>0 :\n",
        "    print(\"Nmuber is positive\")\n",
        "  case _ if n==0 :                    #elif executed after if\n",
        "    print(\"Number is zero\")\n",
        "  case default:\n",
        "    print(\"Number is negative\")"
      ]
    },
    {
      "cell_type": "code",
      "execution_count": null,
      "metadata": {
        "id": "bUDLa_w-L6Zh"
      },
      "outputs": [],
      "source": [
        "#FOR LOOPS\n",
        "\n",
        "name = 'abhishek'\n",
        "for i in name:\n",
        "  print(i)\n",
        "  if (i==\"b\"):\n",
        "    print(\"this is something special\")\n",
        "  else:\n",
        "    print(\"this is not something special\")\n",
        "\n",
        "\n",
        "#for loop inside for loop FOR LIST\n",
        "colors = [\"RED\",\"GREEN\",\"BLUE\",\"YELLOW\"]\n",
        "for i in colors:\n",
        "  print(i)\n",
        "  for n in i:\n",
        "    print(n)\n",
        "\n",
        "\n",
        "# RANGE FUNCTION in for loops\n",
        "\n",
        "for i in range(9):\n",
        "  print(i)   #output starts from zero\n",
        "\n",
        "\n",
        "for i in range(9):\n",
        "  print(i+1) #output will start from1\n",
        "\n",
        "\n",
        "for i in range(9,15):\n",
        "  print(i)  # will include 9 but not 15\n",
        "\n",
        "\n",
        "for i in range(9,15,2):   #range(start,stop,step)-----> step means how to increment values\n",
        "  print(i)"
      ]
    },
    {
      "cell_type": "code",
      "execution_count": null,
      "metadata": {
        "id": "Czh2-rzDQnCK"
      },
      "outputs": [],
      "source": [
        "# WHILE LOOPS\n",
        "\n",
        "i=0\n",
        "while i<=9:\n",
        "  print(i)\n",
        "  i=i+1         #incrementing while loop\n",
        "\n",
        "\n",
        "i=9\n",
        "while i>0:\n",
        "  print(i)\n",
        "  i=i-1          #decrementing while loop\n",
        "\n",
        "\n",
        "\n",
        "# using else with while loops\n",
        "i=0\n",
        "while i<=9:\n",
        "  print(i)\n",
        "  i=i+1\n",
        "else :\n",
        "  print(\"number is bigger than 9\")\n",
        "\n",
        "\n",
        "#DO WHILE LOOP"
      ]
    },
    {
      "cell_type": "code",
      "execution_count": null,
      "metadata": {
        "id": "d0uEuXoAYho7"
      },
      "outputs": [],
      "source": [
        "#BREAK\n",
        "\n",
        "for i in range(15):\n",
        "  if i==10:\n",
        "    break\n",
        "  print(\"5 X\",i+1,\"=\",5*(i+1))\n",
        "print(\"leave the loop\")\n",
        "\n",
        "#CONTINUE\n",
        "\n",
        "for i in range(15):\n",
        "  if i==10:\n",
        "    print(\"skip the iteration\") #for the given value the for loop will cntinue by skipping the given values\n",
        "    continue\n",
        "  print(\"5 X\",i,\"=\",5*(i))\n",
        "\n"
      ]
    },
    {
      "cell_type": "code",
      "execution_count": null,
      "metadata": {
        "id": "CgMbbUSKffpm"
      },
      "outputs": [],
      "source": [
        "# FUNCTIONS - block of code to perfom specific task\n",
        "\n",
        "def add(a,b):     # a and b are variables. They are the arguments for this function\n",
        "  addition=a+b\n",
        "  print(addition)\n",
        "\n",
        "a=9\n",
        "b=10\n",
        "\n",
        "add(a,b) # calling a function\n",
        "\n",
        "\n",
        "\n",
        "#PASS: suppose you want to write the body of a function later. leaving it open will give error so write pass.\n",
        "\n",
        "def sub(a,b):\n",
        "  pass\n",
        "\n"
      ]
    },
    {
      "cell_type": "code",
      "execution_count": null,
      "metadata": {
        "id": "lKxm_2fcm6_l"
      },
      "outputs": [],
      "source": [
        "#FUNCTION AGRUMENTS - default,keyword,variable length,required\n",
        "\n",
        "def average(a=5,b=5):\n",
        "  print(\"average is :\",(a+b)/2)\n",
        "\n",
        "\n",
        "#calling functions :\n",
        "average(3,7) #default positioning of a and b\n",
        "average(b=10) #now this value will be considered for b and value of a will be default\n",
        "average(b=20,a=70) #keyword arguments: no need to worry about giving a before why or visa vera. uses keywords to define value not indexing.\n",
        "\n",
        "\n",
        "def aveg(a,b):\n",
        "  print(\"average is :\",(a+b)/2)\n",
        "aveg(3,4) #required value since not given in function.\n",
        "\n",
        "\n",
        "# VARIABLE LENGTH: data taken as tuple\n",
        "def average2(*numbers):\n",
        "  sum=0\n",
        "  for i in numbers:\n",
        "    sum=sum+i\n",
        "  print(\"average2 is :\",sum/len(numbers))\n",
        "\n",
        "average2(4,5,6,7,8)\n",
        "\n",
        "# VARIABLE LENGTH: data taken as dictionary \" **number \" fdr\n",
        "\n"
      ]
    },
    {
      "cell_type": "code",
      "execution_count": null,
      "metadata": {
        "id": "wFH2_9KrYeaX"
      },
      "outputs": [],
      "source": [
        "# RETURN STATEMENT\n",
        "\n",
        "def average2(*numbers):\n",
        "  sum=0\n",
        "  for i in numbers:\n",
        "    sum=sum+i\n",
        "  return sum/len(numbers)\n",
        "\n",
        "c=average2(4,5,6,7,8) #store the value of output in a variable c\n",
        "print(c)"
      ]
    },
    {
      "cell_type": "code",
      "execution_count": null,
      "metadata": {
        "id": "5XJLH_yJj7JT"
      },
      "outputs": [],
      "source": [
        "#LIST\n",
        "\n",
        "l=[3,5,6,9,True,\"harry\"] #can hold data of different data types in one list\n",
        "print(l)\n",
        "print(type(l))\n",
        "\n",
        "print(l[0]) #ordered: follows indexing from 0\n",
        "print(l[4])\n",
        "\n",
        "print(l[-3]) #negative indexing\n",
        "\n",
        "\n",
        "#check weather an item present in the list or not -IF/ELSE\n",
        "\n",
        "if \"9\" in l:   # the answer will be no since, \"9\" as string isnt present in list its peresent as a number.\n",
        "  print(\"yes\")\n",
        "else:\n",
        "  print(\"no\")\n",
        "\n",
        "\n",
        "if \"ha\" in \"harry\":\n",
        "  print(\"yes\")\n",
        "else:\n",
        "  print(\"no\")\n",
        "\n",
        "\n",
        "\n",
        "#RANGE OF INDEX : Listname[start:end:jumpindex]\n",
        "\n",
        "print(l[2:4])\n",
        "\n",
        "#negative indexing in range:\n",
        "print(l[0:-3])\n",
        "\n",
        "#jumpindex:\n",
        "newlist=[1,2,3,4,5,6,6,5,5,4,3,3,4,4,4,3,3,4]\n",
        "print(newlist[0:10])\n",
        "print(newlist[0:10:2])#will start skipping one index in between\n",
        "\n",
        "#default value is print(newlist[0:len(newlist)])\n",
        "print(newlist[:])\n",
        "len(l)\n",
        "\n",
        "\n",
        "# LIST COMPREHENSION:\n",
        "\n",
        "lst=[i for i in range(15)]\n",
        "print(\"list comprehension:\",lst)\n",
        "\n",
        "\n",
        "#can even apply operations to it:\n",
        "\n",
        "lst_operations=[i*i for i in range(15)]\n",
        "print(\"lst_operations with operations :\",lst_operations)\n",
        "\n",
        "\n",
        "#can even apply conditions to it as well:\n",
        "\n",
        "lst_operations=[i*i for i in range(15) if i%2==0]\n",
        "print(\"lst_operations with conditions :\",lst_operations)"
      ]
    },
    {
      "cell_type": "code",
      "execution_count": null,
      "metadata": {
        "id": "qiDc_cqpskpD"
      },
      "outputs": [],
      "source": [
        "#LIST METHODS []\n",
        "\n",
        "#1.APPEND\n",
        "s=[11,1,1,2,3,4,5,6]\n",
        "c=[\"a\",\"g\",\"f\",\"u\"]\n",
        "s.append(9) #adds only one element at the end of the list\n",
        "print(s)\n",
        "\n",
        "\n",
        "#2.SORT\n",
        "s.sort(reverse=True) #decending order\n",
        "print(s)\n",
        "s.sort() #ascending order\n",
        "print(s)\n",
        "c.sort()\n",
        "print(c) #alphabetic order\n",
        "\n",
        "\n",
        "#3.REVERSE- reverses the order of the orignal list\n",
        "s.reverse ()\n",
        "\n",
        "\n",
        "#4.INDEX- will give me the index of object 1 in the list i. 7 after reversing\n",
        "s.index(1)\n",
        "print(s.index(1))      #if there are 2 occurances of 1, will retuen the index for the first occurance\n",
        "\n",
        "\n",
        "#5.COUNT-gives count of how many times 1 occures in the list\n",
        "s.count(1)\n",
        "\n",
        "\n",
        "#6.COPY\n",
        "m=s # m here is a reference of s list, but list remains same,SO ANY CHNAGES MADE IN M WILL CHANGE S\n",
        "m[0]=0 #index one object 11 becomes 0\n",
        "print(s)\n",
        "#its not recemmended to use this as it creates confusion rather use copy function\n",
        "n=s.copy()\n",
        "n[0]=11\n",
        "print(s) #remains the same now\n",
        "print(n)\n",
        "\n",
        "\n",
        "#7.INSERT -inserts item to a given index\n",
        "s.insert(1,899) #index of 899 will be 1\n",
        "print(s)\n",
        "\n",
        "#8.EXTEND() adds the entire list at the end of another list\n",
        "m=[900,1000,1100]\n",
        "s.extend(m) #changes s\n",
        "print(s)\n",
        "\n",
        "# CONCATENATING 2 LISTS - new list forms\n",
        "k= s+m #in this m remains same while k becomes a new list\n",
        "print(k)\n"
      ]
    },
    {
      "cell_type": "code",
      "execution_count": null,
      "metadata": {
        "id": "WN2TQEQV36Bj"
      },
      "outputs": [],
      "source": [
        "# TUPLES- IMMUTABLE ()\n",
        "tup=(1,2,5,67,89,90)\n",
        "print(type(tup))\n",
        "\n",
        "\n",
        "#imp\n",
        "will_become_integer=(1)\n",
        "print(type(will_become_integer)) #we observe if we are trying to create a tuple and we just add one value it becomes an integer\n",
        "tup2=(1,)\n",
        "print(type(tup2)) #---->we need to add one comma to make it a tuple with one value\n",
        "\n",
        "#why tuples are necessary? : when we want that even mistakenly we dont change the list then use tuple\n",
        "\n",
        "#Positive indexing in tuple\n",
        "print(tup[2])\n",
        "\n",
        "#negative indexing- same as list\n",
        "print(tup[-3])\n",
        "\n",
        "#Check for item -if else loop\n",
        "if 67 in tup:\n",
        "  print(\"yes\")\n",
        "else:\n",
        "  print(\"no\")\n",
        "\n",
        "#range of index(same as list)\n",
        "\n",
        "#NOTE:after slicing anew tuple is returned orignal remains the same.\n",
        "#tuple[start:end:jumpindex]\n",
        "tup2=tup[1:3]\n",
        "print(tup2)\n",
        "\n",
        "#similar negative slicing also possible just like it was in lists\n",
        "tup3=tup[:-1]\n",
        "print(tup3)"
      ]
    },
    {
      "cell_type": "code",
      "execution_count": null,
      "metadata": {
        "id": "lOtJDz5EGpRV"
      },
      "outputs": [],
      "source": [
        "#OPERATIONS ON TUPLE\n",
        "\n",
        "#NO DIRECT WAY OF MAKING THE CHANGES TO A TUPLE- if you still want, need to convert it to a list then perform opertaions over it and then convert it back to a tuple.\n",
        "tup_change=(1,2,3,4,5,6,7)\n",
        "tup_change_temp=list(tup_change) #converting a tuple to a list\n",
        "tup_change_temp.append(5)\n",
        "print(tup_change_temp)\n",
        "tup_change_temp.pop(3) #remove item- item given not index\n",
        "print(tup_change_temp)\n",
        "tup_change_temp[2]=99 #index given\n",
        "print(tup_change_temp)\n",
        "#tup_change = tuple(tup_change_temp) ##----->DOUBT\n",
        "print(tup_change)\n",
        "\n",
        "#####length of tuple always remains same\n",
        "\n",
        "\n",
        "#CONCATINATING 2 TUPLES : Its possible because new tuple is created in this process, old remains unaffected.\n",
        "y=(1,2,3)\n",
        "z=(3,4,5)\n",
        "print(type(y))\n",
        "new_tuple=y+z\n",
        "print(new_tuple)\n",
        "\n",
        "\n",
        "#TUPLE METHODS\n",
        "\n",
        "#1.COUNT- 5 occures how many times\n",
        "t2=(1,2,3,4,5,5,5,5,5,5)\n",
        "print(t2.count(5))\n",
        "\n",
        "#2.INDEX- Gives the index of first occurance of 5, if 5 nost present raises ERROR\n",
        "t2=(1,2,3,4,5,5,5,5,5,5)\n",
        "print(t2.index(5))\n",
        "#print(t2.index(7))\n",
        "\n",
        "#Finding out occurance of 5 in a given range in the tuple\n",
        "print(t2.index(5,5,9)) #index(what valuse to look for,starting index,end index)\n",
        "\n",
        "#3.length- gives the length of the tuple\n",
        "print(len(t2))\n"
      ]
    },
    {
      "cell_type": "code",
      "execution_count": null,
      "metadata": {
        "id": "yu4QMQs2MSd5"
      },
      "outputs": [],
      "source": [
        "# EXERCISE-3: Create a program capable of displaying questions to the user like kbc"
      ]
    },
    {
      "cell_type": "code",
      "execution_count": null,
      "metadata": {
        "colab": {
          "base_uri": "https://localhost:8080/"
        },
        "id": "vUqzgogtTbjs",
        "outputId": "15ee878b-f0e2-4459-d489-77da2b7d6bc8"
      },
      "outputs": [
        {
          "name": "stdout",
          "output_type": "stream",
          "text": [
            "hey my name is India and i am from Harry\n",
            "hey my name is Harry and i am from India\n",
            "for only 49.91 dollars!\n",
            "Hey my name is Harry and i am from India\n",
            "For only 2.33 dollars!\n",
            "we want to use f-string like this : Hey my name is {name} and i am from {country}\n"
          ]
        }
      ],
      "source": [
        "#F-STRING IN PYTHON- used for string formatting\n",
        "\n",
        "\n",
        "#what is string formatting ?\n",
        "letter =\"hey my name is {1} and i am from {0}\"\n",
        "country=\"India\"\n",
        "name=\"Harry\"\n",
        "\n",
        "print(letter.format(name,country)) #FORMAT METHOD :The format() method formats the specified value(s) and insert them inside the string's placeholder\n",
        "\n",
        "print(letter.format(country,name))#is given opposite we can solve this problem by giving parenthese in the above {}\n",
        "\n",
        "#taking ony 2 decimal places for a value input\n",
        "text=\"for only {price:.2f} dollars!\"\n",
        "print(text.format(price=49.9098876354))\n",
        "\n",
        "#fstring\n",
        "letter2=(f\"Hey my name is {name} and i am from {country}\")\n",
        "print(letter2)\n",
        "price=2.3334354545\n",
        "text2=(f\"For only {price:.2f} dollars!\")\n",
        "print(text2)\n",
        "\n",
        "\n",
        "#if you want to print curly brackets in the output of f-string -USE DOUBLE CURLY BRACKETS\n",
        "letter3=(f\"we want to use f-string like this : Hey my name is {{name}} and i am from {{country}}\")\n",
        "print(letter3)"
      ]
    },
    {
      "cell_type": "code",
      "execution_count": null,
      "metadata": {
        "colab": {
          "base_uri": "https://localhost:8080/"
        },
        "id": "ikC48iMUUyBu",
        "outputId": "762c37d8-5df3-4bb5-afd7-faba6ed58954"
      },
      "outputs": [
        {
          "name": "stdout",
          "output_type": "stream",
          "text": [
            "25\n",
            "takes in a number n,returns the square of n\n",
            "5\n",
            "25\n",
            "None\n",
            "The Zen of Python, by Tim Peters\n",
            "\n",
            "Beautiful is better than ugly.\n",
            "Explicit is better than implicit.\n",
            "Simple is better than complex.\n",
            "Complex is better than complicated.\n",
            "Flat is better than nested.\n",
            "Sparse is better than dense.\n",
            "Readability counts.\n",
            "Special cases aren't special enough to break the rules.\n",
            "Although practicality beats purity.\n",
            "Errors should never pass silently.\n",
            "Unless explicitly silenced.\n",
            "In the face of ambiguity, refuse the temptation to guess.\n",
            "There should be one-- and preferably only one --obvious way to do it.\n",
            "Although that way may not be obvious at first unless you're Dutch.\n",
            "Now is better than never.\n",
            "Although never is often better than *right* now.\n",
            "If the implementation is hard to explain, it's a bad idea.\n",
            "If the implementation is easy to explain, it may be a good idea.\n",
            "Namespaces are one honking great idea -- let's do more of those!\n"
          ]
        }
      ],
      "source": [
        "#IMP FOR INTERVIW:\n",
        "\n",
        "\n",
        "# DOC STRING - The docstring is a string that appears right after the defination of a function,methods,class or module  and provides information about the its purpose, parameters, and return value.\n",
        "\n",
        "def square(n):\n",
        "  '''takes in a number n,returns the square of n''' #doc string are not like comments they are not ignored by python. its stored in \".__doc__\" (DOC attribute)\n",
        "  print(n**2)\n",
        "\n",
        "square(5)\n",
        "\n",
        "print(square. __doc__)   #how to print your doc string\n",
        "\n",
        "# IMP POINT :: changing comment doesnt change anything but changing doc string chnages the OUTPUT of the programn ---- DOUBT\n",
        "\n",
        "#difference between DOC string and comments\n",
        "\n",
        "#doc string becomes NONE if not printed right below the function\n",
        "def square(n):\n",
        "  print(n)\n",
        "  '''takes in a number n,returns the square of n'''\n",
        "  print(n**2)\n",
        "\n",
        "square(5)\n",
        "\n",
        "print(square. __doc__)\n",
        "\n",
        "\n",
        "\n",
        "#PEP-8 (PYTHON ENHANCEMENT PROPOSAL)\n",
        "# DEFINE :is a document that provides guidelines and best practices on how to write Python code\n",
        "\n",
        "#zen of python: The Zen of Python is a set of golden principles or axioms for the best programming practices in Pythonic style.\n",
        "\n",
        "#zen of python is printed by doing \"IMPORT THIS\"\n",
        "import this\n"
      ]
    },
    {
      "cell_type": "code",
      "execution_count": null,
      "metadata": {
        "colab": {
          "base_uri": "https://localhost:8080/"
        },
        "id": "lVdtkQo1jgfq",
        "outputId": "8a7d9c88-9745-4de9-c56d-ed28b0c54e7e"
      },
      "outputs": [
        {
          "name": "stdout",
          "output_type": "stream",
          "text": [
            "24\n"
          ]
        },
        {
          "data": {
            "text/plain": [
              "55"
            ]
          },
          "execution_count": 18,
          "metadata": {},
          "output_type": "execute_result"
        }
      ],
      "source": [
        "#RECURSION:\n",
        "#We know we can call one function inside another function to define it.\n",
        "#BUT we can also call the same function inside initself to define it but with a different argument . this is called RECURSION\n",
        "\n",
        "#FACTORIAL DEFINATION\n",
        "\n",
        "#factorial(7)=7*6*5*4*3*2*1\n",
        "#factorial(6)=6*5*4*3*2*1\n",
        "#factorial(1)=1\n",
        "#factorial(0)=1\n",
        "#thus we conclude ---> factorial(n) = n * factorial(n-1)\n",
        "\n",
        "def factorial(n):\n",
        "  if (n==0 or n==1):\n",
        "    return 1\n",
        "  else:\n",
        "    return n*factorial(n-1)\n",
        "\n",
        "factorial(4)\n",
        "print(factorial(4))\n",
        "\n",
        "#WORKING OF THE PROGRAM : 4*factorial(3)=4*(3*factorial(2))=4*3*(2*factorial(1))=4*3*2*1\n",
        "\n",
        "\n",
        "#FIBONACCI\n",
        "\n",
        "def fibonacci(n):\n",
        "  if (n==0):\n",
        "    return 0\n",
        "  elif (n==1):\n",
        "    return 1\n",
        "  else:\n",
        "    return fibonacci(n-1)+fibonacci(n-2)\n",
        "\n",
        "fibonacci(10)\n",
        "\n"
      ]
    },
    {
      "cell_type": "code",
      "execution_count": null,
      "metadata": {
        "colab": {
          "base_uri": "https://localhost:8080/"
        },
        "id": "JAUd2BIArAPe",
        "outputId": "6cc90927-2220-4053-a666-81b14df7ea2f"
      },
      "outputs": [
        {
          "name": "stdout",
          "output_type": "stream",
          "text": [
            "{2, 3, 4, 5}\n",
            "<class 'dict'>\n",
            "<class 'set'>\n",
            "2\n",
            "3\n",
            "4\n",
            "5\n"
          ]
        }
      ],
      "source": [
        "#SETS- contains unique values {}\n",
        "\n",
        "#Sets are used to store multiple items in a single variable\n",
        "#A set is a collection which is unordered, unchangeable*, and unindexed.\n",
        "#Duplicate items are not allowed\n",
        "#can contain data of mutltiple data types\n",
        "#item occures in random orders thus unindexed\n",
        "\n",
        "#usage: where we dont want to reapeat values.]\n",
        "\n",
        "\n",
        "sets={2,3,4,5,2} #wont take 2 twice\n",
        "print(sets)\n",
        "\n",
        "\n",
        "#empty set is a DICTIONARY- because same syntax\n",
        "s={}\n",
        "print(type(s))\n",
        "\n",
        "harry= set() #how to cretae an empty set\n",
        "print(type(harry))\n",
        "\n",
        "\n",
        "#ACCESSING SET ITEMS\n",
        "for value in sets:\n",
        "  print(value)\n",
        "  #output can be in any order\n",
        "\n",
        "\n"
      ]
    },
    {
      "cell_type": "code",
      "execution_count": null,
      "metadata": {
        "colab": {
          "base_uri": "https://localhost:8080/"
        },
        "id": "FYZgDd1btLlb",
        "outputId": "288ba6cf-a9f6-4bb5-891c-04636109efba"
      },
      "outputs": [
        {
          "name": "stdout",
          "output_type": "stream",
          "text": [
            "{1, 2, 3, 4, 5, 6, 7}\n",
            "value of s1 after union : {1, 2, 3}\n",
            "updated value of s1 is : {1, 2, 3, 4, 5, 6, 7}\n",
            "{1, 2, 3, 4, 5, 6, 7, 8}\n",
            "value of s3 after intersection  : {1, 2, 3, 4, 5, 6, 7, 8, 9}\n",
            "updated value of s3 is after intersection_update : {1, 2, 3, 4, 5, 6, 7, 8}\n",
            "{5, 6, 7, 8}\n",
            "{1, 2, 3, 4}\n",
            "s5 after symmetric_difference_update is : {8, 5, 6, 7}\n",
            "False\n",
            "True\n",
            "False\n",
            "True\n",
            "s7 after adding: {1, 2, 22}\n",
            "s7 after updating: {1, 2, 33, 22, 55, 44}\n",
            "s7 after removing values: {1, 2, 22, 55, 44}\n",
            "1\n",
            "s7 after popping: {2, 22, 55, 44}\n",
            "set()\n",
            "no\n"
          ]
        }
      ],
      "source": [
        "#SET METHODS- union and intersection\n",
        "\n",
        "\n",
        "\n",
        "#1.UNION & UPDATE - merging 2 sets and taking dublicate value once\n",
        "s1={1,2,3}\n",
        "s2={3,4,5,6,7}\n",
        "\n",
        "#union =s1+s2 (we cant just add 2 sets need to take union )\n",
        "union1=s1.union(s2)\n",
        "print(union1)\n",
        "print(\"value of s1 after union :\",s1)\n",
        "\n",
        "#Difference between union and update :s1 and s2 remains unchanged in union but when we want our \"s1\" set to get updated we use UPDATE  function\n",
        "\n",
        "update1=s1.update(s2)\n",
        "print(\"updated value of s1 is :\",s1)\n",
        "\n",
        "#2.INTERSECTION() AND intersection_update()\n",
        "\n",
        "s3={1,2,3,4,5,6,7,8,8,9,9,9,9}\n",
        "s4={1,2,3,4,5,6,7,8}\n",
        "inter1=s3.intersection(s4)\n",
        "print(inter1)\n",
        "print(\"value of s3 after intersection  :\",s3)\n",
        "\n",
        "update1=s3.intersection_update(s4)\n",
        "print(\"updated value of s3 is after intersection_update :\",s3)\n",
        "\n",
        "#3.SYMMETRIC DIFFERENC AND symmetric_difference_update\n",
        "\n",
        "#what is symmetric difference?---> (a union b)-(b intersection a) ----> thus all the uncommon values between a and b\n",
        "\n",
        "s5={1,2,3,4}\n",
        "s6={2,3,4,5}\n",
        "\n",
        "z=s5.symmetric_difference(s4)\n",
        "print(z)\n",
        "print(s5)\n",
        "\n",
        "z=s5.symmetric_difference_update(s4)\n",
        "print(\"s5 after symmetric_difference_update is :\",s5)\n",
        "\n",
        "#4.DIFFERENC AND difference_update:  set a- set b\n",
        "\n",
        "\n",
        "\n",
        "##SET METHODS\n",
        "\n",
        "#1.ISDISJOINT()- checks if item of one set are present in another set-ouput is true/false\n",
        "s5={1,2,3,4}\n",
        "s6={2,3,4,5}\n",
        "print(s5.isdisjoint(s6))\n",
        "\n",
        "#2.ISSUPERSET()-Checks all items of a particualr set are present in the orignal set-output is true and false.\n",
        "s7={1,2}\n",
        "s8={1,2,3,4,5}\n",
        "\n",
        "print(s8.issuperset(s7)) #s7 present entirely in s8\n",
        "\n",
        "#3.ISSUBSET()-if all the items of the orignal set are present in a particular set.\n",
        "print(s8.issubset(s7)) #s8 is not a subset of s7.thus False\n",
        "print(s7.issubset(s8))\n",
        "\n",
        "#4.ADD()-add a single item to the set.\n",
        "s7.add(22)\n",
        "print(\"s7 after adding:\",s7)\n",
        "\n",
        "#5.UPDATE()-adds more than one item to the set by creating anothing set and then adding all those values in the required set.\n",
        "s9={33,44,55}\n",
        "s7.update(s9) #s9 gets added in s7\n",
        "print(\"s7 after updating:\",s7)\n",
        "\n",
        "#6.REMOVE()-to remove values from the set(WILL RAISE ERROR IF VALUE NOT PRESENT)\n",
        "s7.remove(33)\n",
        "print(\"s7 after removing values:\",s7)\n",
        "#s7.remove(33)-----> now will rasie error\n",
        "\n",
        "#7.DISCARD()-also removes values but will not raise error if value not found\n",
        "s7.discard(33) #--->33 not even in set but\n",
        "\n",
        "#8.POP()-removes the last element from the set but the catch is that we dont know which item gets popped as sets are unordered.\n",
        "#NOTE:you can access the pop item if you assign the pop() method to a variable e.g in this case assigned to z\n",
        "z=s7.pop() #you cant give arguments in pop\n",
        "print(z)\n",
        "print(\"s7 after popping:\",s7)\n",
        "\n",
        "#9.DEL()-its not a method its a key world that deletes the set entirely.\n",
        "\n",
        "#difference between methods and keywords\n",
        "'''Python keywords are special reserved words that have specific meanings and purposes\n",
        "and can't be used for anything but those specific purposes.\n",
        "These keywords are always available—you'll never have to import them into your code.'''\n",
        "\n",
        "'''A method is a function that “belongs to” an object.'''\n",
        "del s7\n",
        "# print (s7) ---> will give an error\n",
        "\n",
        "#10.CLEAR()-will remove the items of the set and will return an empty set.\n",
        "s9.clear()\n",
        "print(s9) #empty set returned\n",
        "\n",
        "\n",
        "\n",
        "#CHECK IF AN ITEM EXIST\n",
        "setn={1,2,3,4,5,6,7,9}\n",
        "\n",
        "if \"1\" in setn:\n",
        "  print(\"yes\")\n",
        "else:\n",
        "  print(\"no\")"
      ]
    },
    {
      "cell_type": "code",
      "execution_count": null,
      "metadata": {
        "colab": {
          "base_uri": "https://localhost:8080/"
        },
        "id": "mwOiRGbJhlVv",
        "outputId": "f3774875-fcb1-4019-d04e-e3ae53621ed1"
      },
      "outputs": [
        {
          "name": "stdout",
          "output_type": "stream",
          "text": [
            "human\n",
            "human\n",
            "None\n",
            "dict_keys(['nina', 'suri', 'aman'])\n",
            "dict_values(['human', 'female', 'male'])\n",
            "human\n",
            "female\n",
            "male\n",
            "the values corresponding to the key nina is human\n",
            "the values corresponding to the key suri is female\n",
            "the values corresponding to the key aman is male\n",
            "dict_items([('nina', 'human'), ('suri', 'female'), ('aman', 'male')])\n",
            "dict_items([(1, 'human'), (2, 'female'), (3, 'male')])\n",
            "key value pairs in dict are (nina,human)\n",
            "key value pairs in dict are (suri,female)\n",
            "key value pairs in dict are (aman,male)\n"
          ]
        }
      ],
      "source": [
        "#DICTIONARIES:\n",
        "\n",
        "'''they or ORDERED collection of data items. They store multiple items in a single variable.\n",
        "They are key-value pairs that are seperated by commas and enclosed witin {}'''\n",
        "\n",
        "dic ={1:\"human\",2:\"female\",3:\"male\"}\n",
        "print(dic[1])\n",
        "\n",
        "dict ={\"nina\":\"human\",\"suri\":\"female\",\"aman\":\"male\"}\n",
        "print(dict[\"nina\"]) #if key is string enclose in brackets.\n",
        "\n",
        "#can be used for soring marks of students in a class.\n",
        "\n",
        "#python 3.7 onwards dictionaries are orderded earlier they were unordered--->i.e if we print keys we get them in a specific order always.\n",
        "\n",
        "# 2 ways to access key value pairs in a dictionary and difference between them.\n",
        "\n",
        "#print(dict[\"female\"])--->if key not there gives error\n",
        "print(dict.get('female')) #--->if key not there gives NONE\n",
        "\n",
        "\n",
        "#accessing multiple keys and values:\n",
        "print(dict.keys())\n",
        "print(dict.values())\n",
        "\n",
        "#using for loop to print values\n",
        "for key in dict.keys():\n",
        "  print(dict[key]) #ordered list thus output comes in the same format as well.\n",
        "\n",
        "#using for loop to print values and F-STRING\n",
        "for key in dict.keys():\n",
        "  print(f\"the values corresponding to the key {key} is {dict[key]}\")\n",
        "\n",
        "\n",
        "#accessing key-value pairs:\n",
        "print(dict.items())\n",
        "print(dic.items())\n",
        "\n",
        "\n",
        "for key,value in dict.items():\n",
        "  print(f\"key value pairs in dict are ({key},{value})\")\n",
        "\n",
        "\n"
      ]
    },
    {
      "cell_type": "code",
      "execution_count": null,
      "metadata": {
        "colab": {
          "base_uri": "https://localhost:8080/"
        },
        "id": "wyVJn0v82x8c",
        "outputId": "7920613e-bc76-41fc-d5d0-ab7258733e4a"
      },
      "outputs": [
        {
          "name": "stdout",
          "output_type": "stream",
          "text": [
            "{122: 44, 123: 89, 567: 69, 333: 78, 678: 90}\n",
            "{}\n",
            "{}\n",
            "{678: 90}\n",
            "{}\n",
            "{122: 44, 123: 89}\n",
            "{122: 44}\n"
          ]
        }
      ],
      "source": [
        "# DICTIONARIES METHODS\n",
        "\n",
        "#1.UPDATE()-----eg employee ids and their performances and need to add more\n",
        "ep1={122:44,123:89,567:69}\n",
        "ep2={333:78,678:90}\n",
        "\n",
        "ep1.update(ep2)\n",
        "print(ep1)\n",
        "\n",
        "\n",
        "\n",
        "#REMOVING ITEMS FROM DICTIONARY:-\n",
        "\n",
        "#2.CLEAR()\n",
        "ep1.clear()\n",
        "print(ep1) #---> now an empty dictionary\n",
        "\n",
        " #que: How to crate empty dictionary ?\n",
        "emp={}\n",
        "print(emp)\n",
        "\n",
        "\n",
        "#3.POP() # can remove one key-value pair\n",
        "ep2.pop(333)\n",
        "print(ep2)\n",
        "\n",
        "\n",
        "#4.POP-ITEM():removes the last key value pair from th dictionary\n",
        "\n",
        "ep2.popitem()\n",
        "print(ep2)\n",
        "\n",
        "ep3={122:44,123:89,567:69}\n",
        "ep3.popitem()\n",
        "print(ep3)\n",
        "\n",
        "#5.DEL():deletes the whole dictionary\n",
        "del ep1\n",
        "  #print(ep1)-----> will give an error\n",
        "\n",
        "  #important thing to note is we can also use del() to delete dictionary items\n",
        "del ep3[123] #if key not given entire dictionary will get deleted\n",
        "  #del ep3[\"123\"]----> will give error beacuse present as int not as string in dict\n",
        "\n",
        "print(ep3)\n",
        "\n"
      ]
    },
    {
      "cell_type": "code",
      "execution_count": null,
      "metadata": {
        "colab": {
          "base_uri": "https://localhost:8080/"
        },
        "id": "og0MGSH3nmb1",
        "outputId": "332c9244-4d84-480e-b751-82ae355f88ab"
      },
      "outputs": [
        {
          "name": "stdout",
          "output_type": "stream",
          "text": [
            "0\n",
            "1\n",
            "2\n",
            "3\n",
            "4\n",
            "5\n",
            "6\n",
            "7\n",
            "8\n",
            "9\n",
            "sorry no i left \n",
            "0\n",
            "1\n",
            "2\n",
            "3\n",
            "4\n",
            "5\n",
            "6\n",
            "7\n",
            "8\n",
            "9\n",
            "sorry no i left \n",
            "sorry no i left for empty list \n",
            "0\n",
            "1\n",
            "2\n",
            "3\n",
            "4\n",
            "0\n",
            "1\n",
            "2\n",
            "3\n",
            "4\n"
          ]
        }
      ],
      "source": [
        "#FOR LOOP WITH ELSE :------> Important for interview\n",
        "\n",
        "\n",
        "''' else key word is not just used with if it can be used in for and while loops.\n",
        "Statement in else looop executed after all iterations are completed in the end and then program exite the loop'''\n",
        "\n",
        "\n",
        "for i in range (10):\n",
        "  print(i)\n",
        "else:\n",
        "  print(\"sorry no i left \") #----> everything for loop executed first then else\n",
        "\n",
        "i=0\n",
        "while i<10:\n",
        "  print(i)\n",
        "  i=i+1\n",
        "else:\n",
        "  print(\"sorry no i left \")\n",
        "\n",
        "#Assume we have an empty list it will directly go to ELSE since no iterations possible\n",
        "for i in []:\n",
        "  print(i)\n",
        "else:\n",
        "  print(\"sorry no i left for empty list \")\n",
        "\n",
        "\n",
        "for i in range (6):\n",
        "  print(i)\n",
        "  if i==4:\n",
        "    break\n",
        "else:\n",
        "  print(\"sorry no i left \") #it wont print the content in else loop now.\n",
        "\n",
        "'''NOTE: execution of else means :loop break nahi hua, but successfully khatam hua hai.\n",
        "has gone to its last value , only then else will be printed '''\n",
        "\n",
        "i=0\n",
        "while i<10:\n",
        "  print(i)\n",
        "  i=i+1\n",
        "  if i == 5:\n",
        "    break\n",
        "else:\n",
        "  print(\"sorry no i left \") #will not print else\n",
        "\n",
        "\n"
      ]
    },
    {
      "cell_type": "code",
      "execution_count": null,
      "metadata": {
        "colab": {
          "base_uri": "https://localhost:8080/"
        },
        "id": "6DjJXQ7jvw-j",
        "outputId": "a200b5ce-5a58-4411-ffa3-ad27b55ad4d4"
      },
      "outputs": [
        {
          "name": "stdout",
          "output_type": "stream",
          "text": [
            "enter the number : 5\n",
            "enter the number : \n",
            "multiplication table of 5 is: \n",
            "5 X 1 = 5\n",
            "5 X 2 = 10\n",
            "5 X 3 = 15\n",
            "5 X 4 = 20\n",
            "5 X 5 = 25\n",
            "5 X 6 = 30\n",
            "5 X 7 = 35\n",
            "5 X 8 = 40\n",
            "5 X 9 = 45\n",
            "5 X 10 = 50\n",
            "some important lines of code\n",
            "end of code \n",
            "multiplication table of  is: \n",
            "NUMBER ENTERED IS NOT AN INTEGER\n",
            "enter an integer: 5\n",
            "index error\n"
          ]
        }
      ],
      "source": [
        "#if error comes how to handle the error and move ahead\n",
        "\n",
        "\n",
        "#EXCEPTION HANDLING: TRY/EXCPET------> e.g we asked our server to bring in some input and it coudnt bring in so it will raise an error\n",
        "''' Exception handling is the process of responding to unwanted or unexpected events when a computer program runs.\n",
        "it avoids the program from crashing, without this rthe entire code ahead won't run'''\n",
        "\n",
        "\n",
        "a=input(\"enter the number : \")\n",
        "print(f\"multiplication table of {a} is: \")\n",
        "\n",
        "try :\n",
        "  for i in range(1,11):\n",
        "    print(f\"{int(a)} X {i} = {int(a)*i}\") #impotant to mention int(a)\n",
        "except Exception as e:  ### Exceptions: E needs to be capital\n",
        "  print(e)\n",
        "'''except:\n",
        "  print(\"invalid input:can give maual errors like this\")'''\n",
        "\n",
        "\n",
        "# now even if the error occures it will print the error and then move ahead in the code and the rest of the code will work.\n",
        "print(\"some important lines of code\")\n",
        "print (\"end of code \")\n",
        "\n",
        "\n",
        "#CAN HANDLE A SPECIFIC ERROR AS WELL:\n",
        "\n",
        "\n",
        "a=input(\"enter the number : \")\n",
        "print(f\"multiplication table of {a} is: \")\n",
        "try :\n",
        "  for i in range(1,11):\n",
        "    print(f\"{int(a)} X {i} = {int(a)*i}\")    #important to mention int(a)\n",
        "except ValueError:\n",
        "  print(\"NUMBER ENTERED IS NOT AN INTEGER\")\n",
        "\n",
        "#can use multiple excep t statements:\n",
        "try:\n",
        "  num=int(input(\"enter an integer: \"))\n",
        "  a=[6,3]\n",
        "  print(a[num])\n",
        "except ValueError:\n",
        "  print(\"NUMBER ENTERED IS NOT AN INTEGER\")\n",
        "except IndexError:\n",
        "  print(\"index error\") # cant be present in the list we have specified above\n"
      ]
    },
    {
      "cell_type": "code",
      "execution_count": null,
      "metadata": {
        "colab": {
          "base_uri": "https://localhost:8080/"
        },
        "id": "dj_U9Oqo3rmO",
        "outputId": "0440b3ef-7656-4769-d95d-aced665d1390"
      },
      "outputs": [
        {
          "name": "stdout",
          "output_type": "stream",
          "text": [
            "enter the index: 5\\\n",
            "some error occured\n",
            "i am always executed\n",
            "enter the index: 5\n",
            "some error occured\n",
            "0\n",
            "enter the index: t\n",
            "some error occured\n",
            "i am always executed\n",
            "0\n"
          ]
        }
      ],
      "source": [
        "#FINALLY- Used for clean ups, this code will always be executed (IMP)\n",
        "\n",
        "\n",
        "try:\n",
        "  l=[1,5,6,7]\n",
        "  i=int(input(\"enter the index: \"))\n",
        "  print(l[i])\n",
        "except:\n",
        "  print(\"some error occured\")\n",
        "finally :                        #whether goes in try or except always executed.\n",
        "  print(\"i am always executed\")\n",
        "\n",
        "\n",
        " # why use finally when you can just print anything directly\n",
        "\n",
        "def func1():\n",
        "  try:\n",
        "    l=[1,5,6,7]\n",
        "    i=int(input(\"enter the index: \"))\n",
        "    print(l[i])\n",
        "    return 1\n",
        "  except:\n",
        "    print(\"some error occured\")\n",
        "    return 0\n",
        "  print(\"i am always executed\") #now this print won't be executed\n",
        "\n",
        "\n",
        "x= func1()\n",
        "print(x)\n",
        "\n",
        "\n",
        "def func2():\n",
        "  try:\n",
        "    l=[1,5,6,7]\n",
        "    i=int(input(\"enter the index: \"))\n",
        "    print(l[i])\n",
        "    return 1\n",
        "  except:\n",
        "    print(\"some error occured\")\n",
        "    return 0\n",
        "  finally:\n",
        "    print(\"i am always executed\") #now this print will be executed now\n",
        "\n",
        "\n",
        "x= func2()\n",
        "print(x)\n",
        "\n"
      ]
    },
    {
      "cell_type": "code",
      "execution_count": null,
      "metadata": {
        "colab": {
          "base_uri": "https://localhost:8080/"
        },
        "id": "OtufzuO2ZDVd",
        "outputId": "a74689ca-cf3f-42ff-e0b7-dadb20c1a3f2"
      },
      "outputs": [
        {
          "name": "stdout",
          "output_type": "stream",
          "text": [
            "enter any value between 5 and 9 7\n",
            "enter the string quit\n"
          ]
        }
      ],
      "source": [
        "#imagine we are writing a code so we want to throw error so that the code stops then and there.\n",
        "\n",
        "\n",
        "#RAISING CUSTOM ERRORS : using raising key word we can throw error on a particular action.\n",
        "\n",
        "a= int (input(\"enter any value between 5 and 9 \"))\n",
        "\n",
        "if (a<5 or a>9):\n",
        "    raise ValueError(\"value should be between 5 and 9\")\n",
        "\n",
        "\n",
        "# custum errors are the built in erros but we can design our own errors as well.\n",
        "\n",
        "'''\n",
        "syntax to define custom error:\n",
        "\n",
        "\n",
        "class CustomError(Exception):\n",
        "  #CODE\n",
        "  pass\n",
        "try:\n",
        "  #code\n",
        "except CustomError:\n",
        "  #code\n",
        "\n",
        "'''\n",
        "\n",
        "a= (input(\"enter the string \"))\n",
        "\n",
        "if (a != \"quit\"):\n",
        "    raise ValueError(\"value should be \"\"quit\"\" \")"
      ]
    },
    {
      "cell_type": "code",
      "execution_count": null,
      "metadata": {
        "colab": {
          "base_uri": "https://localhost:8080/"
        },
        "id": "dUZiUBO0cy2b",
        "outputId": "cf02f458-122c-4439-ee92-a869c4d18280"
      },
      "outputs": [
        {
          "name": "stdout",
          "output_type": "stream",
          "text": [
            "B\n",
            "9\n",
            "0\n",
            "result is false\n",
            "result is false\n"
          ]
        }
      ],
      "source": [
        "#SHORT HAND IF ELSE STATEMENTS:\n",
        "\n",
        "'''There is a short hand syntax for the if-else statement that can be used when the condition\n",
        "being tested is simple and the code block to be executed are short'''\n",
        "\n",
        "\n",
        "a=88\n",
        "b=100\n",
        "print(\"A\") if a>b else print(\"=\") if a==b else print (\"B\")\n",
        "\n",
        "print(9) if a<b else \"\" #when we have nothing in else we still if to write else , or we will get syntax error.\n",
        "#Goes from left to right\n",
        "\n",
        "# can write expressions as well :\n",
        "c=9 if a>b else 0\n",
        "print(c)\n",
        "\n",
        "n=10\n",
        "if n>10:\n",
        "  print(\"result is true\")\n",
        "else:\n",
        "  print(\"result is false\")\n",
        "\n",
        "# now wrirting the above condition in short hand if else statement:\n",
        "\n",
        "\n",
        "print(\"result is true\") if n>100 else print(\"result is false\")\n",
        "\n",
        "# advantage of shorthand if else:\n",
        "''' shorthand syntax is Convininet to write simple if else statements , especially when you want to assign value based on a condition'''\n",
        "\n",
        " # disadvantage of shorthand if else:\n",
        "''' Not suitable for more complex situations where yu want to execute multiple code lines\n"
      ]
    },
    {
      "cell_type": "code",
      "execution_count": null,
      "metadata": {
        "colab": {
          "base_uri": "https://localhost:8080/"
        },
        "id": "fpV43YiRpw3H",
        "outputId": "017faf4c-9b60-46c3-b2eb-5f8ae5ec95b4"
      },
      "outputs": [
        {
          "output_type": "stream",
          "name": "stdout",
          "text": [
            "10 , 0\n",
            "30 , 1\n",
            "60 , 2\n",
            "1 , 3\n",
            "2 , 4\n",
            "3 , 5\n",
            "4 , 6\n",
            "40 , 7\n",
            "98 , 8\n",
            "0 10\n",
            "1 30\n",
            "2 60\n",
            "3 1\n",
            "4 2\n",
            "5 3\n",
            "6 4\n",
            "7 40\n",
            "8 98\n",
            "0 apple\n",
            "1 pear\n",
            "2 apricot\n",
            "3 mango\n",
            "10\n",
            "30\n",
            "60\n",
            "1\n",
            "ayushi is awsome !!!\n",
            "2\n",
            "3\n",
            "4\n",
            "40\n",
            "98\n",
            "10\n",
            "30\n",
            "60\n",
            "1\n",
            "ayushi is awsome\n",
            "2\n",
            "3\n",
            "4\n",
            "40\n",
            "98\n",
            "M\n",
            "Y\n",
            " \n",
            "N\n",
            "A\n",
            "M\n",
            "we iterated the string sucessfully using enumerate\n",
            "E\n",
            " \n",
            "I\n",
            "S\n",
            " \n",
            "A\n",
            "Y\n",
            "U\n",
            "S\n",
            "H\n",
            "I\n",
            "1\n",
            "2\n",
            "3\n",
            "4\n",
            "40\n",
            "98\n",
            "70\n",
            "60\n",
            "50\n",
            "44\n"
          ]
        }
      ],
      "source": [
        "\n",
        "#ENUMERATE FUNCTION IN PYTHON\n",
        "\n",
        "'''its an built in python function that allows you to loop over a sequence (such as tuple ,list , string)\n",
        "and get the index and value of each element at the same time'''\n",
        "\n",
        "\n",
        "'''loop over a list and print the\n",
        " 1.INDEX\n",
        " 2.VALUE,\n",
        "of each element'''\n",
        "\n",
        "marks = [10,30,60,1,2,3,4,40,98]\n",
        "\n",
        "# #enumneration using for\n",
        "for i in marks:\n",
        "  print(i,\",\",marks.index(i))\n",
        "\n",
        "# #enumerate function\n",
        "for index , mark in enumerate(marks):\n",
        "  print(index,mark)\n",
        "\n",
        "\n",
        "fruits=['apple','pear','apricot','mango']\n",
        "for index, fruit in enumerate(fruits):\n",
        "  print(index,fruit)\n",
        "\n",
        "#Print value of index is equal to some particular value then print the given value in condition  :\n",
        "index=0\n",
        "for mark in marks :\n",
        "  print(mark)\n",
        "  if (index == 3):\n",
        "    print(\"ayushi is awsome !!!\")\n",
        "  index+=1\n",
        "\n",
        "#SOLVING THE ABOVE PROBLEM WITH ENUMERATE FUCNCTION :\n",
        "\n",
        "for index, mark in enumerate(marks):\n",
        "  print(mark)\n",
        "  if index==3:\n",
        "    print(\"ayushi is awsome\")\n",
        "\n",
        "\n",
        "#Enumerating string:\n",
        "strings = \"MY NAME IS AYUSHI\"\n",
        "for index, string in enumerate(strings):\n",
        "  print(string)\n",
        "  if index ==5:\n",
        "    print(\"we iterated the string sucessfully using enumerate\")\n",
        "\n",
        "\n",
        "# CHANGING THE START INDEX FOR ENUMERATION (BY DEFAULT IT IS ZERO):  -------> DOUBT\n",
        "markZ = [1,2,3,4,40,98,70,60,50,44]\n",
        "for index, mark in enumerate(markZ,start=5):\n",
        "  print(mark)\n",
        "\n",
        "\n"
      ]
    },
    {
      "cell_type": "code",
      "source": [
        "#VIRTUAL ENVIRONMENT IN PYTHON:\n",
        "'''WHY NEEDED : Maintain versions(because they get updated). suppose you and your friend are writing a code,\n",
        "his software is updated and yours is not'''\n",
        "\n",
        "''' WHAT IS VIRTUAL ENVIRONMENT: you have complete control over the environment.\n",
        " You would know the package versions that are required to be updated and what versions are installed.\n",
        " Virtual environments give you a replicable and stable environment.'''\n",
        "\n",
        "\n",
        "#create a virtual environment: Basically whatever versions we need we will install there and that wont be realated to the package versions that are installed in the PC of a prticualr person.\n",
        "\n",
        "\n"
      ],
      "metadata": {
        "colab": {
          "base_uri": "https://localhost:8080/",
          "height": 52
        },
        "id": "7_e2yM_oKQwq",
        "outputId": "1427755e-4eac-4753-c70c-9daa3640b6fa"
      },
      "execution_count": null,
      "outputs": [
        {
          "output_type": "execute_result",
          "data": {
            "text/plain": [
              "' WHAT IS VIRTUAL ENVIRONMENT: you have complete control over the environment.\\n You would know the package versions that are required to be updated and what versions are installed.\\n Virtual environments give you a replicable and stable environment.'"
            ],
            "application/vnd.google.colaboratory.intrinsic+json": {
              "type": "string"
            }
          },
          "metadata": {},
          "execution_count": 36
        }
      ]
    },
    {
      "cell_type": "code",
      "source": [
        "# HOW IMPORT WORKS IN PYTHON!\n",
        "\n",
        "'''importing in python is the prcess of loading code from a python module into the\n",
        "current script, this allows you to use the functions and variables defined in the module\n",
        "in your current script, as well as any additional modules that are imported'''\n",
        "\n",
        "\n",
        "'''It’s important to keep in mind that all packages are modules,\n",
        "but not all modules are packages. Or put another way, packages are just a special kind of module.\n",
        "Specifically, any module that contains a __path__ attribute is considered a package.'''\n",
        "\n",
        "\n",
        "#importing module\n",
        "import pandas\n",
        "\n",
        "#using functions and variables defines in the panads module using \".\"\n",
        "#pandas.read_csv()\n",
        "\n",
        "\n",
        "import math\n",
        "math.floor(4.354757)\n",
        "\n",
        "\n",
        "\n",
        "# if we want to import just one function from a certain module:\n",
        "from math import sqrt,pi  #we took out sqr and pi function\n",
        "result= sqrt(9)*pi\n",
        "print(result)\n",
        "\n",
        "\n",
        "# from math module we imported all the functions\n",
        "from math import * #not recommended approch because causes confusion\n",
        "\n",
        "# \"as\" keyword ---> to make using of module simple\n",
        "from math import pi,sqrt as s #-----> pi imported as pi and sqrt imported as s\n",
        "\n",
        "import math as m\n",
        "m.floor(4.354757)\n",
        "\n",
        "# DIR Function ---> if we dont know functions in math, so we use dir to print all the function & variable in math\n",
        "print(dir(math))\n",
        "\n",
        "print(math.nan,type(math.nan))\n",
        "\n"
      ],
      "metadata": {
        "colab": {
          "base_uri": "https://localhost:8080/"
        },
        "id": "1SumF4CgcggQ",
        "outputId": "f604242b-f218-4fd3-d7fd-3fb7cfc3bdaa"
      },
      "execution_count": null,
      "outputs": [
        {
          "output_type": "stream",
          "name": "stdout",
          "text": [
            "9.42477796076938\n",
            "['__doc__', '__loader__', '__name__', '__package__', '__spec__', 'acos', 'acosh', 'asin', 'asinh', 'atan', 'atan2', 'atanh', 'ceil', 'comb', 'copysign', 'cos', 'cosh', 'degrees', 'dist', 'e', 'erf', 'erfc', 'exp', 'expm1', 'fabs', 'factorial', 'floor', 'fmod', 'frexp', 'fsum', 'gamma', 'gcd', 'hypot', 'inf', 'isclose', 'isfinite', 'isinf', 'isnan', 'isqrt', 'lcm', 'ldexp', 'lgamma', 'log', 'log10', 'log1p', 'log2', 'modf', 'nan', 'nextafter', 'perm', 'pi', 'pow', 'prod', 'radians', 'remainder', 'sin', 'sinh', 'sqrt', 'tan', 'tanh', 'tau', 'trunc', 'ulp']\n",
            "nan <class 'float'>\n"
          ]
        }
      ]
    },
    {
      "cell_type": "code",
      "source": [
        "# if __name__ == \"__main__\"\n",
        "\n",
        "\n",
        "'''If the python interpreter is running that module (the source file) as the main program,\n",
        "it sets the special __name__ variable to have a value “__main__”. If this file is being imported from another module,\n",
        " __name__ will be set to the module’s name. Module’s name is available as value to __name__ global variable. '''\n",
        "\n",
        "\n",
        "'''Suppose we had a module \"harry\" which has a function to print a ceratin statement\n",
        "now if we import the module in some other script and call it like as follows '''\n",
        "\n",
        "#-----> In harry.py\n",
        "def welcome():\n",
        "  print(\"hey you are harry\")\n",
        "\n",
        "\n",
        "#----->  In main.py\n",
        "#import harry  ----> this will print once\n",
        "#harry.welcome() ------>this will print once\n",
        "\n",
        "'''\n",
        "we see that the output will be printed twice,\n",
        "becuase just when we import code inside harry is also runs\n",
        "'''\n",
        "\n",
        "# now we want to solve this problem and run the code just once add this to the harry module\n",
        "\n",
        "#if __name__ == \"__main__\"  #----> remeber double quotes on \"__main__\" but not on __name__\n",
        "## what is \"__name__\"? ----> it means from where it is printing.\n",
        "'''if we run the code from somewhere else the valeue of\"__name__\" will be equal to \"harry\"'''\n"
      ],
      "metadata": {
        "id": "83BVE9msgaeb",
        "colab": {
          "base_uri": "https://localhost:8080/",
          "height": 54
        },
        "outputId": "861dd2f8-d53c-4417-9e5b-eff79c864aa1"
      },
      "execution_count": null,
      "outputs": [
        {
          "output_type": "execute_result",
          "data": {
            "text/plain": [
              "'if we run the code from somewhere else the valeue of\"__name__\" will be equal to \"harry\"'"
            ],
            "application/vnd.google.colaboratory.intrinsic+json": {
              "type": "string"
            }
          },
          "metadata": {},
          "execution_count": 3
        }
      ]
    },
    {
      "cell_type": "code",
      "source": [
        "#OS MODULE - Built in liberary that provides functions for interacting with the Operating system\n",
        "# Examples of Operating Systems are Windows, Linux, Mac OS, etc\n",
        "# Allows you to perform a wide variet of task, such a reading and writing files, interacting with the file system, and running system command.\n",
        "\n",
        "import os\n",
        "\n",
        "if (not os.path.exists(\"data\")):\n",
        "  os.mkdir(\"data\") # creates a folder\n",
        "\n",
        "# Now in data folder we want form day one to day 100 one folder :\n",
        "# if (not os.path.exists(f\"data/day{i+1}\")):\n",
        "  for i in range(0,100):  # will start from zero and not include 100\n",
        "    # os.mkdir(f\"data/day{i+1}\")  #{i+1 because it starts from zero} # we used f string for the names\n",
        "    os.rename(f\"data/day{i+1}\",f\"data/tutorial{i+1}\") # renaming\n",
        "\n",
        "\n",
        "\n",
        "# folders= os.listdir(\"data\")\n",
        "# print(folders)\n",
        "\n",
        "# for folder in folders:\n",
        "#   print(os.listdir(f\"data/{folder}\")) #files inside the files we created\n",
        "\n",
        "print(os.getcwd())\n",
        "os.chdir(\"/content\") #----> change directory\n",
        "\n",
        "# os.remove() #----> removes a file\n",
        "# os.rmdir() #---->removes an empty directory\n",
        "# shutil.rmtree() #---->deletes all contents of one directory\n",
        "\n",
        "\n",
        "\n"
      ],
      "metadata": {
        "id": "MbQSyMR3koum",
        "colab": {
          "base_uri": "https://localhost:8080/"
        },
        "outputId": "1c6adefb-6167-42c5-81c2-a371df7d594f"
      },
      "execution_count": null,
      "outputs": [
        {
          "output_type": "stream",
          "name": "stdout",
          "text": [
            "/content\n"
          ]
        }
      ]
    },
    {
      "cell_type": "code",
      "source": [
        "# FILE HANDLING\n",
        "\n",
        "# OPENING A FILE USING open()\n",
        "# open() function takes 2 agrguments ----> name of file/path of file and Mode in which file should be opened\n",
        "# modes are as follows:\n",
        "\n",
        "# \"r\"->reading,\n",
        "\n",
        "#\"w\"->writing,creates a new file if doesnt exist since we are writing only.\n",
        "#NOTE: if you write in a alredy existing file earlier content will go if you want to add to the content use \"a\"= append\n",
        "\n",
        "#\"a\"->appending\n",
        "#\"x\"-> creates a file and gives error if such file already exist\n",
        "\n",
        "# SPECIFY HOW TO READ THE FILE:\n",
        "''' adding \"t\" means open as text file ---> \"rt\" & \"wt\"\n",
        "adding \"b\" means open as binary file ----> \"rb\" & \"wb\"---> jpg,pdf,exe '''\n",
        "\n",
        "#What is a binary file?\n",
        "'''A binary file is a file whose content is in a binary format consisting of a series of sequential bytes,\n",
        " each of which is eight bits in length'''\n",
        "\n",
        "\n",
        "f = open('/content/sample_data/README.md','r')\n",
        "#print(f)\n",
        "\n",
        "text=f.read() # can only read since read above\n",
        "print(text)\n",
        "f.close()\n",
        "\n",
        "#f = open('/content/sample_data/README.md') # will work withoput r since r mode is default\n",
        "\n",
        "\n",
        "\n",
        "\n",
        "# # WRITING A FILE\n",
        "# g= open('/content/sample_data/README.md','w')\n",
        "# g.write(\"hello\")\n"
      ],
      "metadata": {
        "colab": {
          "base_uri": "https://localhost:8080/"
        },
        "id": "VYd682AANPEH",
        "outputId": "9514d617-4577-4436-cb10-f5614525eaf0"
      },
      "execution_count": null,
      "outputs": [
        {
          "output_type": "stream",
          "name": "stdout",
          "text": [
            "\n"
          ]
        }
      ]
    },
    {
      "cell_type": "code",
      "source": [
        "g= open('/content/sample_data/README.md','w')\n",
        "text2=g.write(\"hello\")\n",
        "print(text2)\n",
        "g.close()\n",
        "\n",
        "f = open('/content/sample_data/README.md','r')\n",
        "text=f.read() # can only read since read above\n",
        "print(text)\n",
        "f.close() #----> never forget to close\n",
        "\n",
        "\n",
        "## when you dont want to close the file and it automatically closes\n",
        "with open ('/content/sample_data/README.md','a') as f:\n",
        "  new=f.write(\"i have added new content\")\n",
        "  print(new)\n",
        "\n",
        "\n",
        "f = open('/content/sample_data/README.md','r')\n",
        "text=f.read() # can only read since read above\n",
        "print(text)\n",
        "f.close()"
      ],
      "metadata": {
        "colab": {
          "base_uri": "https://localhost:8080/"
        },
        "id": "17y8sancSa0N",
        "outputId": "f691147b-76cb-4f21-c0f7-46a4baccdc13"
      },
      "execution_count": null,
      "outputs": [
        {
          "output_type": "stream",
          "name": "stdout",
          "text": [
            "5\n",
            "hello\n",
            "24\n",
            "helloi have added new content\n"
          ]
        }
      ]
    },
    {
      "cell_type": "code",
      "source": [],
      "metadata": {
        "id": "UqI9ehy8SjrA"
      },
      "execution_count": null,
      "outputs": []
    }
  ],
  "metadata": {
    "colab": {
      "provenance": []
    },
    "kernelspec": {
      "display_name": "Python 3",
      "name": "python3"
    },
    "language_info": {
      "name": "python"
    }
  },
  "nbformat": 4,
  "nbformat_minor": 0
}